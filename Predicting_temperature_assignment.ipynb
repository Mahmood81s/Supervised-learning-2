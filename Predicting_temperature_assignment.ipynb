{
  "nbformat": 4,
  "nbformat_minor": 0,
  "metadata": {
    "colab": {
      "name": "Predicting temperature assignment.ipynb",
      "provenance": [],
      "authorship_tag": "ABX9TyO10bsMHJ+KA80fyOJmlAgy",
      "include_colab_link": true
    },
    "kernelspec": {
      "name": "python3",
      "display_name": "Python 3"
    },
    "language_info": {
      "name": "python"
    }
  },
  "cells": [
    {
      "cell_type": "markdown",
      "metadata": {
        "id": "view-in-github",
        "colab_type": "text"
      },
      "source": [
        "<a href=\"https://colab.research.google.com/github/Mahmood81s/Supervised-learning-2/blob/main/Predicting_temperature_assignment.ipynb\" target=\"_parent\"><img src=\"https://colab.research.google.com/assets/colab-badge.svg\" alt=\"Open In Colab\"/></a>"
      ]
    },
    {
      "cell_type": "code",
      "metadata": {
        "id": "rjQff7dzT8ve"
      },
      "source": [
        "import matplotlib.pyplot as plt\n",
        "import numpy as np\n",
        "import pandas as pd\n",
        "from sklearn import linear_model\n",
        "import statsmodels.formula.api as smf\n",
        "from sqlalchemy import create_engine\n",
        "\n",
        "# Display preferences\n",
        "%matplotlib inline\n",
        "pd.options.display.float_format = '{:.3f}'.format\n",
        "#support warnings\n",
        "import warnings\n",
        "warnings.filterwarnings('ignore')\n",
        "\n",
        "postgres_user = 'dsbc_student'\n",
        "postgres_pw = '7*.8G9QH21'\n",
        "postgres_host = '142.93.121.174'\n",
        "postgres_port = '5432'\n",
        "postgres_db = 'weatherinszeged'\n",
        "\n",
        "from sqlalchemy import create_engine\n",
        "\n",
        "engine = create_engine('postgresql://{}:{}@{}:{}/{}'.format(\n",
        "    postgres_user, postgres_pw, postgres_host, postgres_port, postgres_db))\n",
        "weather_in_df = pd.read_sql_query('select * from weatherinszeged',con=engine)\n",
        "\n",
        "# No need for an open connection, because you're only doing a single query\n",
        "engine.dispose()\n"
      ],
      "execution_count": null,
      "outputs": []
    },
    {
      "cell_type": "code",
      "metadata": {
        "colab": {
          "base_uri": "https://localhost:8080/",
          "height": 364
        },
        "id": "AprRZ8b9UFTz",
        "outputId": "e739a18a-73b5-4833-b3a9-6caa1e9fd4d0"
      },
      "source": [
        "weather_in_df.head()"
      ],
      "execution_count": null,
      "outputs": [
        {
          "output_type": "execute_result",
          "data": {
            "text/html": [
              "<div>\n",
              "<style scoped>\n",
              "    .dataframe tbody tr th:only-of-type {\n",
              "        vertical-align: middle;\n",
              "    }\n",
              "\n",
              "    .dataframe tbody tr th {\n",
              "        vertical-align: top;\n",
              "    }\n",
              "\n",
              "    .dataframe thead th {\n",
              "        text-align: right;\n",
              "    }\n",
              "</style>\n",
              "<table border=\"1\" class=\"dataframe\">\n",
              "  <thead>\n",
              "    <tr style=\"text-align: right;\">\n",
              "      <th></th>\n",
              "      <th>date</th>\n",
              "      <th>summary</th>\n",
              "      <th>preciptype</th>\n",
              "      <th>temperature</th>\n",
              "      <th>apparenttemperature</th>\n",
              "      <th>humidity</th>\n",
              "      <th>windspeed</th>\n",
              "      <th>windbearing</th>\n",
              "      <th>visibility</th>\n",
              "      <th>loudcover</th>\n",
              "      <th>pressure</th>\n",
              "      <th>dailysummary</th>\n",
              "    </tr>\n",
              "  </thead>\n",
              "  <tbody>\n",
              "    <tr>\n",
              "      <th>0</th>\n",
              "      <td>2006-03-31 22:00:00+00:00</td>\n",
              "      <td>Partly Cloudy</td>\n",
              "      <td>rain</td>\n",
              "      <td>9.472222</td>\n",
              "      <td>7.388889</td>\n",
              "      <td>0.89</td>\n",
              "      <td>14.1197</td>\n",
              "      <td>251.0</td>\n",
              "      <td>15.8263</td>\n",
              "      <td>0.0</td>\n",
              "      <td>1015.13</td>\n",
              "      <td>Partly cloudy throughout the day.</td>\n",
              "    </tr>\n",
              "    <tr>\n",
              "      <th>1</th>\n",
              "      <td>2006-03-31 23:00:00+00:00</td>\n",
              "      <td>Partly Cloudy</td>\n",
              "      <td>rain</td>\n",
              "      <td>9.355556</td>\n",
              "      <td>7.227778</td>\n",
              "      <td>0.86</td>\n",
              "      <td>14.2646</td>\n",
              "      <td>259.0</td>\n",
              "      <td>15.8263</td>\n",
              "      <td>0.0</td>\n",
              "      <td>1015.63</td>\n",
              "      <td>Partly cloudy throughout the day.</td>\n",
              "    </tr>\n",
              "    <tr>\n",
              "      <th>2</th>\n",
              "      <td>2006-04-01 00:00:00+00:00</td>\n",
              "      <td>Mostly Cloudy</td>\n",
              "      <td>rain</td>\n",
              "      <td>9.377778</td>\n",
              "      <td>9.377778</td>\n",
              "      <td>0.89</td>\n",
              "      <td>3.9284</td>\n",
              "      <td>204.0</td>\n",
              "      <td>14.9569</td>\n",
              "      <td>0.0</td>\n",
              "      <td>1015.94</td>\n",
              "      <td>Partly cloudy throughout the day.</td>\n",
              "    </tr>\n",
              "    <tr>\n",
              "      <th>3</th>\n",
              "      <td>2006-04-01 01:00:00+00:00</td>\n",
              "      <td>Partly Cloudy</td>\n",
              "      <td>rain</td>\n",
              "      <td>8.288889</td>\n",
              "      <td>5.944444</td>\n",
              "      <td>0.83</td>\n",
              "      <td>14.1036</td>\n",
              "      <td>269.0</td>\n",
              "      <td>15.8263</td>\n",
              "      <td>0.0</td>\n",
              "      <td>1016.41</td>\n",
              "      <td>Partly cloudy throughout the day.</td>\n",
              "    </tr>\n",
              "    <tr>\n",
              "      <th>4</th>\n",
              "      <td>2006-04-01 02:00:00+00:00</td>\n",
              "      <td>Mostly Cloudy</td>\n",
              "      <td>rain</td>\n",
              "      <td>8.755556</td>\n",
              "      <td>6.977778</td>\n",
              "      <td>0.83</td>\n",
              "      <td>11.0446</td>\n",
              "      <td>259.0</td>\n",
              "      <td>15.8263</td>\n",
              "      <td>0.0</td>\n",
              "      <td>1016.51</td>\n",
              "      <td>Partly cloudy throughout the day.</td>\n",
              "    </tr>\n",
              "  </tbody>\n",
              "</table>\n",
              "</div>"
            ],
            "text/plain": [
              "                       date  ...                       dailysummary\n",
              "0 2006-03-31 22:00:00+00:00  ...  Partly cloudy throughout the day.\n",
              "1 2006-03-31 23:00:00+00:00  ...  Partly cloudy throughout the day.\n",
              "2 2006-04-01 00:00:00+00:00  ...  Partly cloudy throughout the day.\n",
              "3 2006-04-01 01:00:00+00:00  ...  Partly cloudy throughout the day.\n",
              "4 2006-04-01 02:00:00+00:00  ...  Partly cloudy throughout the day.\n",
              "\n",
              "[5 rows x 12 columns]"
            ]
          },
          "metadata": {
            "tags": []
          },
          "execution_count": 2
        }
      ]
    },
    {
      "cell_type": "code",
      "metadata": {
        "colab": {
          "base_uri": "https://localhost:8080/"
        },
        "id": "oVKOKHiMUS49",
        "outputId": "5ac2405a-0c1f-456a-aecf-378cb77cf9f4"
      },
      "source": [
        "# `Y` is the target variable\n",
        "Y = weather_in_df['temperature']\n",
        "# X is the feature\n",
        "X = weather_in_df[['humidity','windspeed', 'windbearing', 'pressure']]\n",
        "\n",
        "# Create a `LinearRegression` model object\n",
        "# from scikit-learn's linear_model module.\n",
        "lrm = linear_model.LinearRegression()\n",
        "\n",
        "# Fit method estimates the coefficients using OLS\n",
        "lrm.fit(X, Y)\n",
        "\n",
        "# Inspect the results\n",
        "print('\\nCoefficients: \\n', lrm.coef_)\n",
        "print('\\nIntercept: \\n', lrm.intercept_)"
      ],
      "execution_count": null,
      "outputs": [
        {
          "output_type": "stream",
          "text": [
            "\n",
            "Coefficients: \n",
            " [-3.24962454e+01 -2.01413742e-01  4.04836936e-03 -6.91759209e-04]\n",
            "\n",
            "Intercept: \n",
            " 37.92643818528538\n"
          ],
          "name": "stdout"
        }
      ]
    },
    {
      "cell_type": "code",
      "metadata": {
        "colab": {
          "base_uri": "https://localhost:8080/",
          "height": 396
        },
        "id": "MaGbKK4aVDyd",
        "outputId": "2ab6b8c7-75d4-444e-fd20-b9c1ff427595"
      },
      "source": [
        "df = pd.DataFrame()\n",
        "\n",
        "# Data from 0 to 999\n",
        "df[\"X\"] = np.arange(0,1000,1)\n",
        "# Take the square of X\n",
        "df[\"X_sq\"] = df[\"X\"]*2\n",
        "\n",
        "# This is your equation: Y = 1 + 2*X + 3*X^2\n",
        "df[\"Y\"] = 1 + 2*df[\"X\"] + 3*df[\"X_sq\"]\n",
        "\n",
        "# Fit a linear regression where target is `Y`\n",
        "# and features are `X` and `X^2`\n",
        "lrm_example = linear_model.LinearRegression()\n",
        "lrm_example.fit(df[[\"X\",\"X_sq\"]],df[\"Y\"])\n",
        "\n",
        "# Predictions of the linear regression\n",
        "predictions = lrm_example.predict(df[[\"X\",\"X_sq\"]])\n",
        "\n",
        "# Print the estimated coefficients\n",
        "print('\\nCoefficients: \\n', lrm_example.coef_)\n",
        "print('\\nIntercept: \\n', lrm_example.intercept_)\n",
        "\n",
        "# Plot the estimated `Y` and `X`\n",
        "# The relationship should be quadratic\n",
        "plt.scatter(df[\"X\"], predictions)\n",
        "plt.xlabel(\"feature\")\n",
        "plt.ylabel(\"target\")\n",
        "plt.title('Linear regression can capture quadratic relationship')\n",
        "plt.show()"
      ],
      "execution_count": null,
      "outputs": [
        {
          "output_type": "stream",
          "text": [
            "\n",
            "Coefficients: \n",
            " [1.6 3.2]\n",
            "\n",
            "Intercept: \n",
            " 1.0\n"
          ],
          "name": "stdout"
        },
        {
          "output_type": "display_data",
          "data": {
            "image/png": "[encoded data removed]",
            "text/plain": [
              "<Figure size 432x288 with 1 Axes>"
            ]
          },
          "metadata": {
            "tags": [],
            "needs_background": "light"
          }
        }
      ]
    },
    {
      "cell_type": "code",
      "metadata": {
        "colab": {
          "base_uri": "https://localhost:8080/"
        },
        "id": "VdHCslGoVLPk",
        "outputId": "b34dea79-ca50-4f31-d0a8-aa8a0f16127a"
      },
      "source": [
        "predictions = lrm.predict(X)\n",
        "errors = Y - predictions\n",
        "\n",
        "print(\"Mean of the errors in the medical costs model is: {}\".format(np.mean(errors)))"
      ],
      "execution_count": null,
      "outputs": [
        {
          "output_type": "stream",
          "text": [
            "Mean of the errors in the medical costs model is: -3.732093434907189e-15\n"
          ],
          "name": "stdout"
        }
      ]
    },
    {
      "cell_type": "code",
      "metadata": {
        "colab": {
          "base_uri": "https://localhost:8080/",
          "height": 295
        },
        "id": "2pPDDP5PVkWY",
        "outputId": "afaab9a6-665e-411e-a768-3ac45a792fd7"
      },
      "source": [
        "plt.scatter(predictions, errors)\n",
        "plt.xlabel('Predicted')\n",
        "plt.ylabel('Residual')\n",
        "plt.axhline(y=0)\n",
        "plt.title('Residual vs. Predicted')\n",
        "plt.show()"
      ],
      "execution_count": null,
      "outputs": [
        {
          "output_type": "display_data",
          "data": {
            "image/png": "[encoded data removed]",
            "text/plain": [
              "<Figure size 432x288 with 1 Axes>"
            ]
          },
          "metadata": {
            "tags": [],
            "needs_background": "light"
          }
        }
      ]
    },
    {
      "cell_type": "code",
      "metadata": {
        "colab": {
          "base_uri": "https://localhost:8080/"
        },
        "id": "cxIcpzFnVrNJ",
        "outputId": "5cbd3d82-af24-4bd9-8766-8d05aab8a048"
      },
      "source": [
        "from scipy.stats import bartlett\n",
        "from scipy.stats import levene\n",
        "\n",
        "bart_stats = bartlett(predictions, errors)\n",
        "lev_stats = levene(predictions, errors)\n",
        "\n",
        "print(\"Bartlett test statistic value is {0:3g} and p value is {1:.3g}\".format(bart_stats[0], bart_stats[1]))\n",
        "print(\"Levene test statistic value is {0:3g} and p value is {1:.3g}\".format(lev_stats[0], lev_stats[1]))"
      ],
      "execution_count": null,
      "outputs": [
        {
          "output_type": "stream",
          "text": [
            "Bartlett test statistic value is 2464.84 and p value is 0\n",
            "Levene test statistic value is 2321.24 and p value is 0\n"
          ],
          "name": "stdout"
        }
      ]
    },
    {
      "cell_type": "code",
      "metadata": {
        "colab": {
          "base_uri": "https://localhost:8080/",
          "height": 265
        },
        "id": "q07kSFrYVzeP",
        "outputId": "b1a1ed55-800a-4cf8-80ed-2d2a489050f0"
      },
      "source": [
        "plt.plot(errors)\n",
        "plt.show()"
      ],
      "execution_count": null,
      "outputs": [
        {
          "output_type": "display_data",
          "data": {
            "image/png": "[encoded data removed]",
            "text/plain": [
              "<Figure size 432x288 with 1 Axes>"
            ]
          },
          "metadata": {
            "tags": [],
            "needs_background": "light"
          }
        }
      ]
    },
    {
      "cell_type": "code",
      "metadata": {
        "colab": {
          "base_uri": "https://localhost:8080/",
          "height": 265
        },
        "id": "Ik_c0d-sV4l5",
        "outputId": "716e84d1-1cb2-40fd-fd23-d58957e1ec6c"
      },
      "source": [
        "from statsmodels.tsa.stattools import acf\n",
        "\n",
        "acf_data = acf(errors)\n",
        "\n",
        "plt.plot(acf_data[1:])\n",
        "plt.show()"
      ],
      "execution_count": null,
      "outputs": [
        {
          "output_type": "display_data",
          "data": {
            "image/png": "[encoded data removed]",
            "text/plain": [
              "<Figure size 432x288 with 1 Axes>"
            ]
          },
          "metadata": {
            "tags": [],
            "needs_background": "light"
          }
        }
      ]
    },
    {
      "cell_type": "code",
      "metadata": {
        "colab": {
          "base_uri": "https://localhost:8080/",
          "height": 369
        },
        "id": "o6iAMarPV9Zn",
        "outputId": "a00174b5-0f3d-4281-b816-22ba9a51c360"
      },
      "source": [
        "rand_nums = np.random.normal(np.mean(errors), np.std(errors), len(errors))\n",
        "\n",
        "plt.figure(figsize=(12,5))\n",
        "\n",
        "plt.subplot(1,2,1)\n",
        "plt.scatter(np.sort(rand_nums), np.sort(errors)) # Sort the arrays\n",
        "plt.xlabel(\"the normally distributed random variable\")\n",
        "plt.ylabel(\"errors of the model\")\n",
        "plt.title(\"QQ plot\")\n",
        "\n",
        "plt.subplot(1,2,2)\n",
        "plt.hist(errors)\n",
        "plt.xlabel(\"errors\")\n",
        "plt.title(\"Histogram of the errors\")\n",
        "\n",
        "plt.tight_layout()\n",
        "plt.show()"
      ],
      "execution_count": null,
      "outputs": [
        {
          "output_type": "display_data",
          "data": {
            "image/png": "[encoded data removed]",
            "text/plain": [
              "<Figure size 864x360 with 2 Axes>"
            ]
          },
          "metadata": {
            "tags": [],
            "needs_background": "light"
          }
        }
      ]
    },
    {
      "cell_type": "code",
      "metadata": {
        "id": "lFSsFxW3WDhT"
      },
      "source": [
        "from scipy.stats import jarque_bera\n",
        "from scipy.stats import normaltest"
      ],
      "execution_count": null,
      "outputs": []
    },
    {
      "cell_type": "code",
      "metadata": {
        "colab": {
          "base_uri": "https://localhost:8080/"
        },
        "id": "kOxsKbUmWIkT",
        "outputId": "d9000aae-1194-4d83-fb43-be78497021d4"
      },
      "source": [
        "jb_stats = jarque_bera(errors)\n",
        "norm_stats = normaltest(errors)\n",
        "\n",
        "print(\"Jarque-Bera test statistics is {0} and p value is {1}\".format(jb_stats[0], jb_stats[1]))\n",
        "print(\"Normality test statistics is {0} and p value is {1}\".format(norm_stats[0], norm_stats[1]))"
      ],
      "execution_count": null,
      "outputs": [
        {
          "output_type": "stream",
          "text": [
            "Jarque-Bera test statistics is 3793.296735252357 and p value is 0.0\n",
            "Normality test statistics is 3375.4323076995743 and p value is 0.0\n"
          ],
          "name": "stdout"
        }
      ]
    },
    {
      "cell_type": "markdown",
      "metadata": {
        "id": "AQ3aRMcWWVQK"
      },
      "source": [
        "based on our p-values, we can say than our errors are not normally distributed. "
      ]
    },
    {
      "cell_type": "markdown",
      "metadata": {
        "id": "7_oFg-4_5e_U"
      },
      "source": [
        "### House price"
      ]
    },
    {
      "cell_type": "code",
      "metadata": {
        "id": "XKGzTbey5c-Q"
      },
      "source": [
        "#database credentials\n",
        "postgres_user = 'dabc_student'\n",
        "postgres_pw = '7*.8G9QH21'\n",
        "postgres_host = '142.93.121.174'\n",
        "postgres_port = '5432'\n",
        "postgres_db = 'houseprices'\n",
        "\n",
        "#use credentiails to start a connection\n",
        "engine = create_engine('postgresql://{}:{}@{}:{}/{}'.format(\n",
        "    postgres_user, postgres_pw, postgres_host, postgres_port, postgres_db))\n",
        "house_prices_df = pd.read_sql_table('houseprices', con=engine)\n",
        "\n",
        "#remove the connection\n",
        "engine.dispose()"
      ],
      "execution_count": null,
      "outputs": []
    },
    {
      "cell_type": "code",
      "metadata": {
        "colab": {
          "base_uri": "https://localhost:8080/"
        },
        "id": "kobYjx3U5nTh",
        "outputId": "2a427fd2-efa0-45f9-d3a3-f9bdfd0c74a3"
      },
      "source": [
        "non_numeric_columns = house_prices_df.select_dtypes(['object']).columns\n",
        "print(non_numeric_columns)\n",
        "print(\"The number of non-numerical columns is {}\".format(len(non_numeric_columns)))"
      ],
      "execution_count": null,
      "outputs": [
        {
          "output_type": "stream",
          "text": [
            "Index(['mszoning', 'street', 'alley', 'lotshape', 'landcontour', 'utilities',\n",
            "       'lotconfig', 'landslope', 'neighborhood', 'condition1', 'condition2',\n",
            "       'bldgtype', 'housestyle', 'roofstyle', 'roofmatl', 'exterior1st',\n",
            "       'exterior2nd', 'masvnrtype', 'exterqual', 'extercond', 'foundation',\n",
            "       'bsmtqual', 'bsmtcond', 'bsmtexposure', 'bsmtfintype1', 'bsmtfintype2',\n",
            "       'heating', 'heatingqc', 'centralair', 'electrical', 'kitchenqual',\n",
            "       'functional', 'fireplacequ', 'garagetype', 'garagefinish', 'garagequal',\n",
            "       'garagecond', 'paveddrive', 'poolqc', 'fence', 'miscfeature',\n",
            "       'saletype', 'salecondition'],\n",
            "      dtype='object')\n",
            "The number of non-numerical columns is 43\n"
          ],
          "name": "stdout"
        }
      ]
    },
    {
      "cell_type": "code",
      "metadata": {
        "colab": {
          "base_uri": "https://localhost:8080/"
        },
        "id": "q3ciDwgq5rH8",
        "outputId": "33f5c710-82dc-4dd6-ce08-e9f0a5db1bd1"
      },
      "source": [
        "numeric_columns = house_prices_df.select_dtypes(['int64', 'float64']).columns\n",
        "print(numeric_columns)\n",
        "print(\"The number of numerical columns is {}\".format(len(numeric_columns)))"
      ],
      "execution_count": null,
      "outputs": [
        {
          "output_type": "stream",
          "text": [
            "Index(['id', 'mssubclass', 'lotfrontage', 'lotarea', 'overallqual',\n",
            "       'overallcond', 'yearbuilt', 'yearremodadd', 'masvnrarea', 'bsmtfinsf1',\n",
            "       'bsmtfinsf2', 'bsmtunfsf', 'totalbsmtsf', 'firstflrsf', 'secondflrsf',\n",
            "       'lowqualfinsf', 'grlivarea', 'bsmtfullbath', 'bsmthalfbath', 'fullbath',\n",
            "       'halfbath', 'bedroomabvgr', 'kitchenabvgr', 'totrmsabvgrd',\n",
            "       'fireplaces', 'garageyrblt', 'garagecars', 'garagearea', 'wooddecksf',\n",
            "       'openporchsf', 'enclosedporch', 'threessnporch', 'screenporch',\n",
            "       'poolarea', 'miscval', 'mosold', 'yrsold', 'saleprice'],\n",
            "      dtype='object')\n",
            "The number of numerical columns is 38\n"
          ],
          "name": "stdout"
        }
      ]
    },
    {
      "cell_type": "code",
      "metadata": {
        "id": "ZoaU-FyI5vi3"
      },
      "source": [
        "house_prices_df = pd.concat([house_prices_df,pd.get_dummies(house_prices_df.mszoning, prefix=\"mszoning\", drop_first=True)], axis=1)\n",
        "house_prices_df = pd.concat([house_prices_df,pd.get_dummies(house_prices_df.street, prefix=\"street\", drop_first=True)], axis=1)\n",
        "dummy_column_names = list(pd.get_dummies(house_prices_df.mszoning, prefix=\"mszoning\", drop_first=True).columns)\n",
        "dummy_column_names = dummy_column_names + list(pd.get_dummies(house_prices_df.street, prefix=\"street\", drop_first=True).columns)"
      ],
      "execution_count": null,
      "outputs": []
    },
    {
      "cell_type": "code",
      "metadata": {
        "id": "tsk_-NHU5y4j"
      },
      "source": [
        "X = house_prices_df[['overallqual', 'grlivarea', 'garagecars', 'garagearea', 'totalbsmtsf'] + dummy_column_names]\n",
        "Y = house_prices_df.saleprice"
      ],
      "execution_count": null,
      "outputs": []
    },
    {
      "cell_type": "code",
      "metadata": {
        "colab": {
          "base_uri": "https://localhost:8080/",
          "height": 629
        },
        "id": "aSokLdVy51Kc",
        "outputId": "9aec0e9e-86a2-4add-ed7c-ef40493007e0"
      },
      "source": [
        "import statsmodels.api as sm\n",
        "X = sm.add_constant(X)\n",
        "\n",
        "results = sm.OLS(Y, X).fit()\n",
        "\n",
        "results.summary()"
      ],
      "execution_count": null,
      "outputs": [
        {
          "output_type": "execute_result",
          "data": {
            "text/html": [
              "<table class=\"simpletable\">\n",
              "<caption>OLS Regression Results</caption>\n",
              "<tr>\n",
              "  <th>Dep. Variable:</th>        <td>saleprice</td>    <th>  R-squared:         </th> <td>   0.769</td> \n",
              "</tr>\n",
              "<tr>\n",
              "  <th>Model:</th>                   <td>OLS</td>       <th>  Adj. R-squared:    </th> <td>   0.767</td> \n",
              "</tr>\n",
              "<tr>\n",
              "  <th>Method:</th>             <td>Least Squares</td>  <th>  F-statistic:       </th> <td>   482.0</td> \n",
              "</tr>\n",
              "<tr>\n",
              "  <th>Date:</th>             <td>Tue, 01 Jun 2021</td> <th>  Prob (F-statistic):</th>  <td>  0.00</td>  \n",
              "</tr>\n",
              "<tr>\n",
              "  <th>Time:</th>                 <td>23:31:31</td>     <th>  Log-Likelihood:    </th> <td> -17475.</td> \n",
              "</tr>\n",
              "<tr>\n",
              "  <th>No. Observations:</th>      <td>  1460</td>      <th>  AIC:               </th> <td>3.497e+04</td>\n",
              "</tr>\n",
              "<tr>\n",
              "  <th>Df Residuals:</th>          <td>  1449</td>      <th>  BIC:               </th> <td>3.503e+04</td>\n",
              "</tr>\n",
              "<tr>\n",
              "  <th>Df Model:</th>              <td>    10</td>      <th>                     </th>     <td> </td>    \n",
              "</tr>\n",
              "<tr>\n",
              "  <th>Covariance Type:</th>      <td>nonrobust</td>    <th>                     </th>     <td> </td>    \n",
              "</tr>\n",
              "</table>\n",
              "<table class=\"simpletable\">\n",
              "<tr>\n",
              "       <td></td>          <th>coef</th>     <th>std err</th>      <th>t</th>      <th>P>|t|</th>  <th>[0.025</th>    <th>0.975]</th>  \n",
              "</tr>\n",
              "<tr>\n",
              "  <th>const</th>       <td>-1.173e+05</td> <td>  1.8e+04</td> <td>   -6.502</td> <td> 0.000</td> <td>-1.53e+05</td> <td>-8.19e+04</td>\n",
              "</tr>\n",
              "<tr>\n",
              "  <th>overallqual</th> <td> 2.333e+04</td> <td> 1088.506</td> <td>   21.430</td> <td> 0.000</td> <td> 2.12e+04</td> <td> 2.55e+04</td>\n",
              "</tr>\n",
              "<tr>\n",
              "  <th>grlivarea</th>   <td>   45.6344</td> <td>    2.468</td> <td>   18.494</td> <td> 0.000</td> <td>   40.794</td> <td>   50.475</td>\n",
              "</tr>\n",
              "<tr>\n",
              "  <th>garagecars</th>  <td> 1.345e+04</td> <td> 2990.453</td> <td>    4.498</td> <td> 0.000</td> <td> 7584.056</td> <td> 1.93e+04</td>\n",
              "</tr>\n",
              "<tr>\n",
              "  <th>garagearea</th>  <td>   16.4082</td> <td>   10.402</td> <td>    1.577</td> <td> 0.115</td> <td>   -3.997</td> <td>   36.813</td>\n",
              "</tr>\n",
              "<tr>\n",
              "  <th>totalbsmtsf</th> <td>   28.3816</td> <td>    2.931</td> <td>    9.684</td> <td> 0.000</td> <td>   22.633</td> <td>   34.131</td>\n",
              "</tr>\n",
              "<tr>\n",
              "  <th>mszoning_FV</th> <td> 2.509e+04</td> <td> 1.37e+04</td> <td>    1.833</td> <td> 0.067</td> <td>-1761.679</td> <td> 5.19e+04</td>\n",
              "</tr>\n",
              "<tr>\n",
              "  <th>mszoning_RH</th> <td> 1.342e+04</td> <td> 1.58e+04</td> <td>    0.847</td> <td> 0.397</td> <td>-1.77e+04</td> <td> 4.45e+04</td>\n",
              "</tr>\n",
              "<tr>\n",
              "  <th>mszoning_RL</th> <td> 2.857e+04</td> <td> 1.27e+04</td> <td>    2.246</td> <td> 0.025</td> <td> 3612.782</td> <td> 5.35e+04</td>\n",
              "</tr>\n",
              "<tr>\n",
              "  <th>mszoning_RM</th> <td> 9047.7894</td> <td> 1.29e+04</td> <td>    0.702</td> <td> 0.483</td> <td>-1.62e+04</td> <td> 3.43e+04</td>\n",
              "</tr>\n",
              "<tr>\n",
              "  <th>street_Pave</th> <td>  151.0376</td> <td> 1.63e+04</td> <td>    0.009</td> <td> 0.993</td> <td>-3.18e+04</td> <td> 3.21e+04</td>\n",
              "</tr>\n",
              "</table>\n",
              "<table class=\"simpletable\">\n",
              "<tr>\n",
              "  <th>Omnibus:</th>       <td>415.883</td> <th>  Durbin-Watson:     </th> <td>   1.979</td> \n",
              "</tr>\n",
              "<tr>\n",
              "  <th>Prob(Omnibus):</th> <td> 0.000</td>  <th>  Jarque-Bera (JB):  </th> <td>41281.526</td>\n",
              "</tr>\n",
              "<tr>\n",
              "  <th>Skew:</th>          <td>-0.115</td>  <th>  Prob(JB):          </th> <td>    0.00</td> \n",
              "</tr>\n",
              "<tr>\n",
              "  <th>Kurtosis:</th>      <td>29.049</td>  <th>  Cond. No.          </th> <td>5.53e+04</td> \n",
              "</tr>\n",
              "</table><br/><br/>Warnings:<br/>[1] Standard Errors assume that the covariance matrix of the errors is correctly specified.<br/>[2] The condition number is large, 5.53e+04. This might indicate that there are<br/>strong multicollinearity or other numerical problems."
            ],
            "text/plain": [
              "<class 'statsmodels.iolib.summary.Summary'>\n",
              "\"\"\"\n",
              "                            OLS Regression Results                            \n",
              "==============================================================================\n",
              "Dep. Variable:              saleprice   R-squared:                       0.769\n",
              "Model:                            OLS   Adj. R-squared:                  0.767\n",
              "Method:                 Least Squares   F-statistic:                     482.0\n",
              "Date:                Tue, 01 Jun 2021   Prob (F-statistic):               0.00\n",
              "Time:                        23:31:31   Log-Likelihood:                -17475.\n",
              "No. Observations:                1460   AIC:                         3.497e+04\n",
              "Df Residuals:                    1449   BIC:                         3.503e+04\n",
              "Df Model:                          10                                         \n",
              "Covariance Type:            nonrobust                                         \n",
              "===============================================================================\n",
              "                  coef    std err          t      P>|t|      [0.025      0.975]\n",
              "-------------------------------------------------------------------------------\n",
              "const       -1.173e+05    1.8e+04     -6.502      0.000   -1.53e+05   -8.19e+04\n",
              "overallqual  2.333e+04   1088.506     21.430      0.000    2.12e+04    2.55e+04\n",
              "grlivarea      45.6344      2.468     18.494      0.000      40.794      50.475\n",
              "garagecars   1.345e+04   2990.453      4.498      0.000    7584.056    1.93e+04\n",
              "garagearea     16.4082     10.402      1.577      0.115      -3.997      36.813\n",
              "totalbsmtsf    28.3816      2.931      9.684      0.000      22.633      34.131\n",
              "mszoning_FV  2.509e+04   1.37e+04      1.833      0.067   -1761.679    5.19e+04\n",
              "mszoning_RH  1.342e+04   1.58e+04      0.847      0.397   -1.77e+04    4.45e+04\n",
              "mszoning_RL  2.857e+04   1.27e+04      2.246      0.025    3612.782    5.35e+04\n",
              "mszoning_RM  9047.7894   1.29e+04      0.702      0.483   -1.62e+04    3.43e+04\n",
              "street_Pave   151.0376   1.63e+04      0.009      0.993   -3.18e+04    3.21e+04\n",
              "==============================================================================\n",
              "Omnibus:                      415.883   Durbin-Watson:                   1.979\n",
              "Prob(Omnibus):                  0.000   Jarque-Bera (JB):            41281.526\n",
              "Skew:                          -0.115   Prob(JB):                         0.00\n",
              "Kurtosis:                      29.049   Cond. No.                     5.53e+04\n",
              "==============================================================================\n",
              "\n",
              "Warnings:\n",
              "[1] Standard Errors assume that the covariance matrix of the errors is correctly specified.\n",
              "[2] The condition number is large, 5.53e+04. This might indicate that there are\n",
              "strong multicollinearity or other numerical problems.\n",
              "\"\"\""
            ]
          },
          "metadata": {
            "tags": []
          },
          "execution_count": 13
        }
      ]
    },
    {
      "cell_type": "code",
      "metadata": {
        "colab": {
          "base_uri": "https://localhost:8080/",
          "height": 396
        },
        "id": "RHX356ol53xh",
        "outputId": "c1d6040a-0a84-4997-e0ac-7fa4a56fb1a1"
      },
      "source": [
        "df = pd.DataFrame()\n",
        "\n",
        "# Data from 0 to 999\n",
        "df[\"X\"] = np.arange(0,1000,1)\n",
        "# Take the square of X\n",
        "df[\"X_sq\"] = df[\"X\"]*2\n",
        "\n",
        "# This is your equation: Y = 1 + 2*X + 3*X^2\n",
        "df[\"Y\"] = 1 + 2*df[\"X\"] + 3*df[\"X_sq\"]\n",
        "\n",
        "# Fit a linear regression where target is `Y`\n",
        "# and features are `X` and `X^2`\n",
        "lrm_example = linear_model.LinearRegression()\n",
        "lrm_example.fit(df[[\"X\",\"X_sq\"]],df[\"Y\"])\n",
        "\n",
        "# Predictions of the linear regression\n",
        "predictions = lrm_example.predict(df[[\"X\",\"X_sq\"]])\n",
        "\n",
        "# Print the estimated coefficients\n",
        "print('\\nCoefficients: \\n', lrm_example.coef_)\n",
        "print('\\nIntercept: \\n', lrm_example.intercept_)\n",
        "\n",
        "# Plot the estimated `Y` and `X`\n",
        "# The relationship should be quadratic\n",
        "plt.scatter(df[\"X\"], predictions)\n",
        "plt.xlabel(\"feature\")\n",
        "plt.ylabel(\"target\")\n",
        "plt.title('Linear regression can capture quadratic relationship')\n",
        "plt.show()"
      ],
      "execution_count": null,
      "outputs": [
        {
          "output_type": "stream",
          "text": [
            "\n",
            "Coefficients: \n",
            " [1.6 3.2]\n",
            "\n",
            "Intercept: \n",
            " 1.0\n"
          ],
          "name": "stdout"
        },
        {
          "output_type": "display_data",
          "data": {
            "image/png": "[encoded data removed]",
            "text/plain": [
              "<Figure size 432x288 with 1 Axes>"
            ]
          },
          "metadata": {
            "tags": [],
            "needs_background": "light"
          }
        }
      ]
    },
    {
      "cell_type": "code",
      "metadata": {
        "colab": {
          "base_uri": "https://localhost:8080/"
        },
        "id": "V_rqPi0W56vL",
        "outputId": "6c7bbd7a-4d9e-4b10-b4a6-8a715fd7f8a6"
      },
      "source": [
        "\n",
        "\n",
        "# Create a `LinearRegression` model object\n",
        "# from scikit-learn's linear_model module.\n",
        "lrm = linear_model.LinearRegression()\n",
        "\n",
        "# Fit method estimates the coefficients using OLS\n",
        "lrm.fit(X, Y)\n",
        "\n",
        "# Inspect the results\n",
        "print('\\nCoefficients: \\n', lrm.coef_)\n",
        "print('\\nIntercept: \\n', lrm.intercept_)"
      ],
      "execution_count": null,
      "outputs": [
        {
          "output_type": "stream",
          "text": [
            "\n",
            "Coefficients: \n",
            " [0.00000000e+00 2.33265353e+04 4.56343565e+01 1.34501364e+04\n",
            " 1.64082048e+01 2.83816393e+01 2.50875137e+04 1.34204564e+04\n",
            " 2.85658560e+04 9.04778936e+03 1.51037622e+02]\n",
            "\n",
            "Intercept: \n",
            " -117337.72871398574\n"
          ],
          "name": "stdout"
        }
      ]
    },
    {
      "cell_type": "code",
      "metadata": {
        "colab": {
          "base_uri": "https://localhost:8080/"
        },
        "id": "EBetwtif59lM",
        "outputId": "ede0bb9b-377a-4c70-e34e-c7b96cf83252"
      },
      "source": [
        "predictions = lrm.predict(X)\n",
        "errors = Y - predictions\n",
        "\n",
        "print(\"Mean of the errors in the medical costs model is: {}\".format(np.mean(errors)))"
      ],
      "execution_count": null,
      "outputs": [
        {
          "output_type": "stream",
          "text": [
            "Mean of the errors in the medical costs model is: -7.246056418508699e-11\n"
          ],
          "name": "stdout"
        }
      ]
    },
    {
      "cell_type": "code",
      "metadata": {
        "colab": {
          "base_uri": "https://localhost:8080/",
          "height": 295
        },
        "id": "jgdeOjQ55_3C",
        "outputId": "10ea9d5f-ef7b-4ccb-9e63-f7b14118fc15"
      },
      "source": [
        "plt.scatter(predictions, errors)\n",
        "plt.xlabel('Predicted')\n",
        "plt.ylabel('Residual')\n",
        "plt.axhline(y=0)\n",
        "plt.title('Residual vs. Predicted')\n",
        "plt.show()"
      ],
      "execution_count": null,
      "outputs": [
        {
          "output_type": "display_data",
          "data": {
            "image/png": "[encoded data removed]",
            "text/plain": [
              "<Figure size 432x288 with 1 Axes>"
            ]
          },
          "metadata": {
            "tags": [],
            "needs_background": "light"
          }
        }
      ]
    },
    {
      "cell_type": "code",
      "metadata": {
        "colab": {
          "base_uri": "https://localhost:8080/",
          "height": 369
        },
        "id": "tVDEd8_i6B9X",
        "outputId": "18b79c77-7617-4109-8c38-e157135a8537"
      },
      "source": [
        "rand_nums = np.random.normal(np.mean(errors), np.std(errors), len(errors))\n",
        "\n",
        "plt.figure(figsize=(12,5))\n",
        "\n",
        "plt.subplot(1,2,1)\n",
        "plt.scatter(np.sort(rand_nums), np.sort(errors)) # Sort the arrays\n",
        "plt.xlabel(\"the normally distributed random variable\")\n",
        "plt.ylabel(\"errors of the model\")\n",
        "plt.title(\"QQ plot\")\n",
        "\n",
        "plt.subplot(1,2,2)\n",
        "plt.hist(errors)\n",
        "plt.xlabel(\"errors\")\n",
        "plt.title(\"Histogram of the errors\")\n",
        "\n",
        "plt.tight_layout()\n",
        "plt.show()"
      ],
      "execution_count": null,
      "outputs": [
        {
          "output_type": "display_data",
          "data": {
            "image/png": "[encoded data removed]",
            "text/plain": [
              "<Figure size 864x360 with 2 Axes>"
            ]
          },
          "metadata": {
            "tags": [],
            "needs_background": "light"
          }
        }
      ]
    },
    {
      "cell_type": "code",
      "metadata": {
        "id": "FrEsUGq76EFE"
      },
      "source": [
        "from scipy.stats import jarque_bera\n",
        "from scipy.stats import normaltest"
      ],
      "execution_count": null,
      "outputs": []
    },
    {
      "cell_type": "code",
      "metadata": {
        "colab": {
          "base_uri": "https://localhost:8080/"
        },
        "id": "fdraGsgl6Gis",
        "outputId": "64459e75-dce0-4d0d-e4dd-207b2a95e430"
      },
      "source": [
        "jb_stats = jarque_bera(errors)\n",
        "norm_stats = normaltest(errors)\n",
        "\n",
        "print(\"Jarque-Bera test statistics is {0} and p value is {1}\".format(jb_stats[0], jb_stats[1]))\n",
        "print(\"Normality test statistics is {0} and p value is {1}\".format(norm_stats[0], norm_stats[1]))"
      ],
      "execution_count": null,
      "outputs": [
        {
          "output_type": "stream",
          "text": [
            "Jarque-Bera test statistics is 41281.52601824967 and p value is 0.0\n",
            "Normality test statistics is 415.8826568585602 and p value is 4.922984898238178e-91\n"
          ],
          "name": "stdout"
        }
      ]
    }
  ]
}